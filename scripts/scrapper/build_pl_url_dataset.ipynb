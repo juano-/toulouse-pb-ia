{
 "cells": [
  {
   "cell_type": "code",
   "execution_count": null,
   "id": "bb5c5006",
   "metadata": {},
   "outputs": [],
   "source": [
    "import pandas as pd\n",
    "import sys\n",
    "import requests\n",
    "\n",
    "from bs4 import BeautifulSoup\n",
    "from pathlib import Path\n",
    "\n",
    "# Path cfg.\n",
    "try:\n",
    "    base_dir = Path(__file__).resolve().parents[2]\n",
    "except NameError:\n",
    "    base_dir = Path().resolve()\n",
    "\n",
    "src_path = base_dir / 'src'\n",
    "if str(src_path) not in sys.path:\n",
    "    sys.path.insert(0, str(src_path))\n",
    "\n",
    "\n",
    "## Projects finder.\n",
    "project_id = 3\n",
    "url = f'https://www.wroclaw.pl/budzet-obywatelski-wroclaw/projekty-2016/szukaj,id,{project_id},name,,rejon,,kategoria,,prog,,selected,2'\n",
    "response = requests.get(url)\n",
    "\n",
    "if response.status_code == 200:\n",
    "    html = response.text\n",
    "    soup = BeautifulSoup(html, \"html.parser\")\n",
    "    print(\"HTML obtenido y parseado con éxito.\")\n",
    "    print(soup.title.string)\n",
    "else:\n",
    "    print(f\"Error al acceder a la página. Código: {response.status_code}\")\n",
    "\n",
    "# Find all <a> with class lnkTitle inside each project.\n",
    "links = [a[\"href\"] for a in soup.find_all(\"a\", class_=\"lnkTitle\") if a.has_attr(\"href\")]\n",
    "\n",
    "for link in links:\n",
    "    print(link)"
   ]
  },
  {
   "cell_type": "code",
   "execution_count": null,
   "id": "ca6f1cd7",
   "metadata": {},
   "outputs": [],
   "source": [
    "import pandas as pd\n",
    "file_path = Path().resolve().parents[1] / 'data/PL16-base-projects.csv'\n",
    "file_path\n",
    "\n",
    "df = pd.read_csv(file_path, sep=\";\")"
   ]
  },
  {
   "cell_type": "markdown",
   "id": "31b94dbf",
   "metadata": {},
   "source": [
    "### URL Extraction Wrocław 2016"
   ]
  },
  {
   "cell_type": "code",
   "execution_count": null,
   "id": "5e73d5ce",
   "metadata": {},
   "outputs": [],
   "source": [
    "url_data = []\n",
    "for _,r in df.iterrows():\n",
    "    project_id = r['project_id']\n",
    "    url = f'https://www.wroclaw.pl/budzet-obywatelski-wroclaw/projekty-2016/szukaj,id,{project_id},name,,rejon,,kategoria,,prog,,selected,2'\n",
    "    response = requests.get(url)\n",
    "\n",
    "    if response.status_code == 200:\n",
    "        html = response.text\n",
    "        soup = BeautifulSoup(html, \"html.parser\")\n",
    "        print(\"HTML obtenido y parseado con éxito.\")\n",
    "        print(soup.title.string)\n",
    "    else:\n",
    "        print(f\"Error al acceder a la página. Código: {response.status_code}\")\n",
    "\n",
    "    # Find all <a> with class lnkTitle inside each project.\n",
    "    links = [a[\"href\"] for a in soup.find_all(\"a\", class_=\"lnkTitle\") if a.has_attr(\"href\")]\n",
    "\n",
    "    if len(links) == 1:\n",
    "        d = {'project_id': project_id, 'url': links[0]}\n",
    "        url_data.append(d)\n",
    "\n",
    "url_df = pd.DataFrame(url_data)\n",
    "url_df.to_csv('pl-projects-2016.csv', sep = \";\", index=False)"
   ]
  },
  {
   "cell_type": "markdown",
   "id": "5b1d5145",
   "metadata": {},
   "source": [
    "### URL Extraction Wrocław 2017"
   ]
  },
  {
   "cell_type": "code",
   "execution_count": null,
   "id": "ac474bf2",
   "metadata": {},
   "outputs": [],
   "source": [
    "import pandas as pd\n",
    "file_path = Path().resolve().parents[1] / 'data/PL17-base-projects.csv'\n",
    "file_path\n",
    "\n",
    "df = pd.read_csv(file_path, sep=\";\")"
   ]
  },
  {
   "cell_type": "code",
   "execution_count": null,
   "id": "9e756adf",
   "metadata": {},
   "outputs": [],
   "source": [
    "url_data = []\n",
    "for _,r in df.iterrows():\n",
    "    project_id = r['project_id']\n",
    "    url = f'https://www.wroclaw.pl/budzet-obywatelski-wroclaw/projekty-2017/szukaj,id,{project_id},name,,rejon,,osiedle,,kategoria,,status,1,prog,,selected,1'\n",
    "    response = requests.get(url)\n",
    "\n",
    "    if response.status_code == 200:\n",
    "        html = response.text\n",
    "        soup = BeautifulSoup(html, \"html.parser\")\n",
    "        print(\"HTML obtenido y parseado con éxito.\")\n",
    "        print(soup.title.string)\n",
    "    else:\n",
    "        print(f\"Error al acceder a la página. Código: {response.status_code}\")\n",
    "\n",
    "    # Find all <a> with class lnkTitle inside each project.\n",
    "    links = [a[\"href\"] for a in soup.find_all(\"a\", class_=\"lnkTitle\") if a.has_attr(\"href\")]\n",
    "\n",
    "    if len(links) == 1:\n",
    "        d = {'project_id': project_id, 'url': links[0]}\n",
    "        url_data.append(d)\n",
    "\n",
    "url_df = pd.DataFrame(url_data)\n",
    "url_df.to_csv('pl-projects-2017.csv', sep = \";\", index=False)"
   ]
  },
  {
   "cell_type": "markdown",
   "id": "5b97281c",
   "metadata": {},
   "source": [
    "#### Extract Poland HTML"
   ]
  },
  {
   "cell_type": "code",
   "execution_count": 12,
   "id": "dd0c42a3",
   "metadata": {},
   "outputs": [],
   "source": [
    "import pandas as pd\n",
    "import sys\n",
    "import requests\n",
    "\n",
    "from bs4 import BeautifulSoup\n",
    "from pathlib import Path\n",
    "\n",
    "# Path cfg.\n",
    "try:\n",
    "    base_dir = Path(__file__).resolve().parents[2]\n",
    "except NameError:\n",
    "    base_dir = Path().resolve()\n",
    "\n",
    "src_path = base_dir / 'src'\n",
    "if str(src_path) not in sys.path:\n",
    "    sys.path.insert(0, str(src_path))"
   ]
  },
  {
   "cell_type": "code",
   "execution_count": 14,
   "id": "b8929517",
   "metadata": {},
   "outputs": [
    {
     "name": "stdout",
     "output_type": "stream",
     "text": [
      "✅ Saved: /home/juano/pb-project/scripts/scrapper/pl-html/project_id_710_2016.html\n",
      "✅ Saved: /home/juano/pb-project/scripts/scrapper/pl-html/project_id_15_2016.html\n",
      "✅ Saved: /home/juano/pb-project/scripts/scrapper/pl-html/project_id_764_2016.html\n",
      "✅ Saved: /home/juano/pb-project/scripts/scrapper/pl-html/project_id_685_2016.html\n",
      "✅ Saved: /home/juano/pb-project/scripts/scrapper/pl-html/project_id_379_2016.html\n",
      "✅ Saved: /home/juano/pb-project/scripts/scrapper/pl-html/project_id_155_2016.html\n",
      "✅ Saved: /home/juano/pb-project/scripts/scrapper/pl-html/project_id_731_2016.html\n",
      "✅ Saved: /home/juano/pb-project/scripts/scrapper/pl-html/project_id_201_2016.html\n",
      "✅ Saved: /home/juano/pb-project/scripts/scrapper/pl-html/project_id_18_2016.html\n",
      "✅ Saved: /home/juano/pb-project/scripts/scrapper/pl-html/project_id_4_2016.html\n",
      "✅ Saved: /home/juano/pb-project/scripts/scrapper/pl-html/project_id_564_2016.html\n",
      "✅ Saved: /home/juano/pb-project/scripts/scrapper/pl-html/project_id_337_2016.html\n",
      "✅ Saved: /home/juano/pb-project/scripts/scrapper/pl-html/project_id_532_2016.html\n",
      "✅ Saved: /home/juano/pb-project/scripts/scrapper/pl-html/project_id_187_2016.html\n",
      "✅ Saved: /home/juano/pb-project/scripts/scrapper/pl-html/project_id_719_2016.html\n",
      "✅ Saved: /home/juano/pb-project/scripts/scrapper/pl-html/project_id_506_2016.html\n",
      "✅ Saved: /home/juano/pb-project/scripts/scrapper/pl-html/project_id_717_2016.html\n",
      "✅ Saved: /home/juano/pb-project/scripts/scrapper/pl-html/project_id_145_2016.html\n",
      "✅ Saved: /home/juano/pb-project/scripts/scrapper/pl-html/project_id_26_2016.html\n",
      "✅ Saved: /home/juano/pb-project/scripts/scrapper/pl-html/project_id_378_2016.html\n",
      "✅ Saved: /home/juano/pb-project/scripts/scrapper/pl-html/project_id_520_2016.html\n",
      "✅ Saved: /home/juano/pb-project/scripts/scrapper/pl-html/project_id_300_2016.html\n",
      "✅ Saved: /home/juano/pb-project/scripts/scrapper/pl-html/project_id_61_2016.html\n",
      "✅ Saved: /home/juano/pb-project/scripts/scrapper/pl-html/project_id_619_2016.html\n",
      "✅ Saved: /home/juano/pb-project/scripts/scrapper/pl-html/project_id_728_2016.html\n",
      "✅ Saved: /home/juano/pb-project/scripts/scrapper/pl-html/project_id_524_2016.html\n",
      "✅ Saved: /home/juano/pb-project/scripts/scrapper/pl-html/project_id_626_2016.html\n",
      "✅ Saved: /home/juano/pb-project/scripts/scrapper/pl-html/project_id_543_2016.html\n",
      "✅ Saved: /home/juano/pb-project/scripts/scrapper/pl-html/project_id_500_2016.html\n",
      "✅ Saved: /home/juano/pb-project/scripts/scrapper/pl-html/project_id_98_2016.html\n",
      "✅ Saved: /home/juano/pb-project/scripts/scrapper/pl-html/project_id_73_2016.html\n",
      "✅ Saved: /home/juano/pb-project/scripts/scrapper/pl-html/project_id_559_2016.html\n",
      "✅ Saved: /home/juano/pb-project/scripts/scrapper/pl-html/project_id_283_2016.html\n",
      "✅ Saved: /home/juano/pb-project/scripts/scrapper/pl-html/project_id_230_2016.html\n",
      "✅ Saved: /home/juano/pb-project/scripts/scrapper/pl-html/project_id_349_2016.html\n",
      "✅ Saved: /home/juano/pb-project/scripts/scrapper/pl-html/project_id_82_2016.html\n",
      "✅ Saved: /home/juano/pb-project/scripts/scrapper/pl-html/project_id_23_2016.html\n",
      "✅ Saved: /home/juano/pb-project/scripts/scrapper/pl-html/project_id_121_2016.html\n",
      "✅ Saved: /home/juano/pb-project/scripts/scrapper/pl-html/project_id_154_2016.html\n",
      "✅ Saved: /home/juano/pb-project/scripts/scrapper/pl-html/project_id_228_2016.html\n",
      "✅ Saved: /home/juano/pb-project/scripts/scrapper/pl-html/project_id_714_2016.html\n",
      "✅ Saved: /home/juano/pb-project/scripts/scrapper/pl-html/project_id_231_2016.html\n",
      "✅ Saved: /home/juano/pb-project/scripts/scrapper/pl-html/project_id_686_2016.html\n",
      "✅ Saved: /home/juano/pb-project/scripts/scrapper/pl-html/project_id_275_2016.html\n",
      "✅ Saved: /home/juano/pb-project/scripts/scrapper/pl-html/project_id_74_2016.html\n",
      "✅ Saved: /home/juano/pb-project/scripts/scrapper/pl-html/project_id_182_2016.html\n",
      "✅ Saved: /home/juano/pb-project/scripts/scrapper/pl-html/project_id_339_2016.html\n",
      "✅ Saved: /home/juano/pb-project/scripts/scrapper/pl-html/project_id_480_2016.html\n",
      "✅ Saved: /home/juano/pb-project/scripts/scrapper/pl-html/project_id_398_2016.html\n",
      "✅ Saved: /home/juano/pb-project/scripts/scrapper/pl-html/project_id_94_2016.html\n",
      "✅ Saved: /home/juano/pb-project/scripts/scrapper/pl-html/project_id_336_2016.html\n",
      "✅ Saved: /home/juano/pb-project/scripts/scrapper/pl-html/project_id_108_2016.html\n",
      "✅ Saved: /home/juano/pb-project/scripts/scrapper/pl-html/project_id_10_2017.html\n",
      "✅ Saved: /home/juano/pb-project/scripts/scrapper/pl-html/project_id_50_2017.html\n",
      "✅ Saved: /home/juano/pb-project/scripts/scrapper/pl-html/project_id_18_2017.html\n",
      "✅ Saved: /home/juano/pb-project/scripts/scrapper/pl-html/project_id_675_2017.html\n",
      "✅ Saved: /home/juano/pb-project/scripts/scrapper/pl-html/project_id_260_2017.html\n",
      "✅ Saved: /home/juano/pb-project/scripts/scrapper/pl-html/project_id_550_2017.html\n",
      "✅ Saved: /home/juano/pb-project/scripts/scrapper/pl-html/project_id_12_2017.html\n",
      "✅ Saved: /home/juano/pb-project/scripts/scrapper/pl-html/project_id_159_2017.html\n",
      "✅ Saved: /home/juano/pb-project/scripts/scrapper/pl-html/project_id_656_2017.html\n",
      "✅ Saved: /home/juano/pb-project/scripts/scrapper/pl-html/project_id_499_2017.html\n",
      "✅ Saved: /home/juano/pb-project/scripts/scrapper/pl-html/project_id_751_2017.html\n",
      "✅ Saved: /home/juano/pb-project/scripts/scrapper/pl-html/project_id_451_2017.html\n",
      "✅ Saved: /home/juano/pb-project/scripts/scrapper/pl-html/project_id_284_2017.html\n",
      "✅ Saved: /home/juano/pb-project/scripts/scrapper/pl-html/project_id_345_2017.html\n",
      "✅ Saved: /home/juano/pb-project/scripts/scrapper/pl-html/project_id_41_2017.html\n",
      "✅ Saved: /home/juano/pb-project/scripts/scrapper/pl-html/project_id_16_2017.html\n",
      "✅ Saved: /home/juano/pb-project/scripts/scrapper/pl-html/project_id_716_2017.html\n",
      "✅ Saved: /home/juano/pb-project/scripts/scrapper/pl-html/project_id_590_2017.html\n",
      "✅ Saved: /home/juano/pb-project/scripts/scrapper/pl-html/project_id_43_2017.html\n",
      "✅ Saved: /home/juano/pb-project/scripts/scrapper/pl-html/project_id_46_2017.html\n",
      "✅ Saved: /home/juano/pb-project/scripts/scrapper/pl-html/project_id_514_2017.html\n",
      "✅ Saved: /home/juano/pb-project/scripts/scrapper/pl-html/project_id_553_2017.html\n",
      "✅ Saved: /home/juano/pb-project/scripts/scrapper/pl-html/project_id_68_2017.html\n",
      "✅ Saved: /home/juano/pb-project/scripts/scrapper/pl-html/project_id_608_2017.html\n",
      "✅ Saved: /home/juano/pb-project/scripts/scrapper/pl-html/project_id_258_2017.html\n",
      "✅ Saved: /home/juano/pb-project/scripts/scrapper/pl-html/project_id_555_2017.html\n",
      "✅ Saved: /home/juano/pb-project/scripts/scrapper/pl-html/project_id_83_2017.html\n",
      "✅ Saved: /home/juano/pb-project/scripts/scrapper/pl-html/project_id_680_2017.html\n",
      "✅ Saved: /home/juano/pb-project/scripts/scrapper/pl-html/project_id_372_2017.html\n",
      "✅ Saved: /home/juano/pb-project/scripts/scrapper/pl-html/project_id_688_2017.html\n",
      "✅ Saved: /home/juano/pb-project/scripts/scrapper/pl-html/project_id_668_2017.html\n",
      "✅ Saved: /home/juano/pb-project/scripts/scrapper/pl-html/project_id_685_2017.html\n",
      "✅ Saved: /home/juano/pb-project/scripts/scrapper/pl-html/project_id_694_2017.html\n",
      "✅ Saved: /home/juano/pb-project/scripts/scrapper/pl-html/project_id_371_2017.html\n",
      "✅ Saved: /home/juano/pb-project/scripts/scrapper/pl-html/project_id_508_2017.html\n",
      "✅ Saved: /home/juano/pb-project/scripts/scrapper/pl-html/project_id_346_2017.html\n",
      "✅ Saved: /home/juano/pb-project/scripts/scrapper/pl-html/project_id_358_2017.html\n",
      "✅ Saved: /home/juano/pb-project/scripts/scrapper/pl-html/project_id_594_2017.html\n",
      "✅ Saved: /home/juano/pb-project/scripts/scrapper/pl-html/project_id_332_2017.html\n",
      "✅ Saved: /home/juano/pb-project/scripts/scrapper/pl-html/project_id_334_2017.html\n",
      "✅ Saved: /home/juano/pb-project/scripts/scrapper/pl-html/project_id_35_2017.html\n",
      "✅ Saved: /home/juano/pb-project/scripts/scrapper/pl-html/project_id_620_2017.html\n",
      "✅ Saved: /home/juano/pb-project/scripts/scrapper/pl-html/project_id_203_2017.html\n",
      "✅ Saved: /home/juano/pb-project/scripts/scrapper/pl-html/project_id_735_2017.html\n",
      "✅ Saved: /home/juano/pb-project/scripts/scrapper/pl-html/project_id_464_2017.html\n",
      "✅ Saved: /home/juano/pb-project/scripts/scrapper/pl-html/project_id_422_2017.html\n",
      "✅ Saved: /home/juano/pb-project/scripts/scrapper/pl-html/project_id_406_2017.html\n",
      "✅ Saved: /home/juano/pb-project/scripts/scrapper/pl-html/project_id_629_2017.html\n",
      "✅ Saved: /home/juano/pb-project/scripts/scrapper/pl-html/project_id_720_2017.html\n",
      "✅ Saved: /home/juano/pb-project/scripts/scrapper/pl-html/project_id_677_2017.html\n"
     ]
    }
   ],
   "source": [
    "# Input\n",
    "path_16 = base_dir / 'pl-projects-2016.csv'\n",
    "path_17 = base_dir / 'pl-projects-2017.csv'\n",
    "\n",
    "df16 = pd.read_csv(path_16, sep=\";\")\n",
    "df17 = pd.read_csv(path_17, sep=\";\")\n",
    "\n",
    "df16['year'] = 2016\n",
    "df17['year'] = 2017\n",
    "\n",
    "# Output\n",
    "output_dir = base_dir / 'pl-html'\n",
    "output_dir.mkdir(parents=True, exist_ok=True)\n",
    "\n",
    "# Data Load\n",
    "project_urls = pd.concat([df16, df17]).reset_index(drop=True)\n",
    "\n",
    "# HTML Loader\n",
    "for i, row in project_urls.iterrows():\n",
    "    try:\n",
    "        response = requests.get(row['url'], timeout=10)\n",
    "        response.raise_for_status()\n",
    "    \n",
    "    except Exception as e:\n",
    "        print(f\"❌ Error downloading {url}: {e}\")\n",
    "        continue\n",
    "\n",
    "    soup = BeautifulSoup(response.text, 'html.parser')\n",
    "    html_content = soup.find('html')\n",
    "\n",
    "    if html_content:\n",
    "        output_file = output_dir / 'project_id_{}_{}.html'.format(row['project_id'],row['year'])\n",
    "        with open(output_file, 'w', encoding='utf-8') as f:\n",
    "            print(f'✅ Saved: {output_file}')\n",
    "            f.write(str(html_content))\n",
    "    else:\n",
    "        print(f\"⚠️ No HTML content found in {url}\")"
   ]
  },
  {
   "cell_type": "markdown",
   "id": "ecc09f36",
   "metadata": {},
   "source": [
    "#### Analyze HTML for scrapping."
   ]
  },
  {
   "cell_type": "code",
   "execution_count": 64,
   "id": "d47e1530",
   "metadata": {},
   "outputs": [],
   "source": [
    "def get_project_data(filepath):\n",
    "    \n",
    "    with open(filepath, 'r', encoding='utf-8') as f:\n",
    "        content = f.read()\n",
    "\n",
    "    project_id = int(filepath.split(\"/\")[-1].split(\"_\")[2].replace(\".html\",\"\"))\n",
    "    year = int(filepath.split(\"/\")[-1].split(\"_\")[-1].replace(\".html\",\"\"))\n",
    "\n",
    "    soup = BeautifulSoup(content, 'html.parser')\n",
    "\n",
    "    h1 = soup.find('h1', class_='txtTitle')\n",
    "    project_title = h1.contents[0].strip()\n",
    "\n",
    "    desc_div = soup.find('div', class_='boxProjectDesc')\n",
    "    description = desc_div.get_text(separator=\"\\n\", strip=True)\n",
    "\n",
    "    project = {}\n",
    "    \n",
    "    project['project_id'] = project_id if project_id else None\n",
    "    project['project_title'] = project_title if project_title else None\n",
    "    project['description'] = description if description else None\n",
    "\n",
    "    return project"
   ]
  },
  {
   "cell_type": "code",
   "execution_count": 65,
   "id": "7fe62048",
   "metadata": {},
   "outputs": [],
   "source": [
    "import os \n",
    "\n",
    "html_folder = base_dir /'pl-html/'\n",
    "data = [os.path.join(html_folder, f) for f in os.listdir(html_folder) if os.path.isfile(os.path.join(html_folder, f))]"
   ]
  },
  {
   "cell_type": "code",
   "execution_count": 66,
   "id": "fa818e83",
   "metadata": {},
   "outputs": [
    {
     "data": {
      "text/plain": [
       "'/home/juano/pb-project/scripts/scrapper/pl-html/project_id_108_2016.html'"
      ]
     },
     "execution_count": 66,
     "metadata": {},
     "output_type": "execute_result"
    }
   ],
   "source": [
    "file_path = data[0]\n",
    "file_path"
   ]
  },
  {
   "cell_type": "code",
   "execution_count": 67,
   "id": "419e97ec",
   "metadata": {},
   "outputs": [
    {
     "name": "stdout",
     "output_type": "stream",
     "text": [
      "{'project_id': 108, 'project_title': 'Budowa sygnalizacji świetlnej na skrzyżowaniu przy Skwerze Pionierów Wrocławskich', 'description': 'Uzasadnienie\\nCelem projektu jest budowa sygnalizacji świetlnej na skrzyżowaniu przy Skwerze Pionierów Wrocławskich (Wrocław/Ołbin), przy wlocie ulic Poniatowskiego i Oleśnickiej.\\nW powyższym miejscu kumuluje się - szczególnie w szczycie komunikacyjnym - ruch pieszych, tramwajów i samochodów. Niejednokrotnie dochodzi tam do zdarzeń drogowych i nierzadko poważnych wypadków. Zachodzi więc potrzeba budowy sygnalizacji, która miała by na celu poprawę bezpieczeństwa i płynności ruchu na tym skrzyżowaniu. Wiele razy o rozwiązanie problemu prosiła min rada osiedla Ołbin.\\nNiemal wszystkie skrzyżowania - także te o mniejszym ruchu i mniej \"wypadkowe\" w ciągu ulic Bema-Poniatowskiego-Jedności Narodowej w ostatnich latach zostały wyposażone w sygnalizację świetlną. Tym bardziej jest istotne i ważne, aby także i to miejsce - tak niebezpieczne - wreszcie doczekało się świateł.'}\n"
     ]
    }
   ],
   "source": [
    "print(get_project_data(filepath=file_path))"
   ]
  },
  {
   "cell_type": "code",
   "execution_count": 51,
   "id": "dbb87cde",
   "metadata": {},
   "outputs": [
    {
     "data": {
      "text/plain": [
       "'https://www.wroclaw.pl/budzet-obywatelski-wroclaw/projekty-2016/projekt,id,108'"
      ]
     },
     "execution_count": 51,
     "metadata": {},
     "output_type": "execute_result"
    }
   ],
   "source": [
    "df16[df16['project_id'] == 108]['url'].iloc[0]"
   ]
  }
 ],
 "metadata": {
  "kernelspec": {
   "display_name": ".venv",
   "language": "python",
   "name": "python3"
  },
  "language_info": {
   "codemirror_mode": {
    "name": "ipython",
    "version": 3
   },
   "file_extension": ".py",
   "mimetype": "text/x-python",
   "name": "python",
   "nbconvert_exporter": "python",
   "pygments_lexer": "ipython3",
   "version": "3.11.2"
  }
 },
 "nbformat": 4,
 "nbformat_minor": 5
}
